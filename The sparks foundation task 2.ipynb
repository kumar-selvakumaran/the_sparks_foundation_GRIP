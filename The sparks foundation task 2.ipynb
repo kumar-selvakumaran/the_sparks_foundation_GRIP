{
 "cells": [
  {
   "cell_type": "markdown",
   "metadata": {
    "id": "ZD1EkyISwBJV"
   },
   "source": [
    "<h2> Author- Kumar Selvakumaran</h2>\n",
    "<h2><b><u> The sparks foundation</u>&nbsp; <u>IOT and Computer vision</u>&nbsp;\t\n",
    "    &#128187;&#128065;</b></h2>\n",
    "\n",
    "<h2><b><i><u>Task2</u> : Detection of Face mask</i></b></h2>\n",
    "<hr>\n"
   ]
  },
  {
   "cell_type": "markdown",
   "metadata": {},
   "source": [
    "<h3><b>We start by importing the libraries we will be using for this project</b></h3>"
   ]
  },
  {
   "cell_type": "code",
   "execution_count": 29,
   "metadata": {
    "id": "gfpbHLOfmhLc"
   },
   "outputs": [],
   "source": [
    "import cv2,os\n",
    "from keras.models import Sequential, load_model\n",
    "from keras.layers import Dense, Activation, Flatten,Dropout\n",
    "from keras.layers import Conv2D, MaxPooling2D\n",
    "from keras.callbacks import ModelCheckpoint\n",
    "from keras.utils import np_utils\n",
    "from matplotlib import pyplot as plt\n",
    "import numpy as np\n"
   ]
  },
  {
   "cell_type": "markdown",
   "metadata": {},
   "source": [
    "<h2><u>Phase - 1 : Data Preprocessing</u></h2>\n",
    "<h3><b>The categories that will be required for this task are established here.<br><br>(Intitializing the labels)</b></h3>"
   ]
  },
  {
   "cell_type": "code",
   "execution_count": 30,
   "metadata": {
    "colab": {
     "base_uri": "https://localhost:8080/"
    },
    "id": "RET8uu-axYaX",
    "outputId": "c90d4b94-dc4b-4be4-9a67-e356a29f809e"
   },
   "outputs": [
    {
     "name": "stdout",
     "output_type": "stream",
     "text": [
      "Categories : ['with mask', 'without mask']\n",
      "Labels     : [0, 1]\n",
      "label_dict : {'with mask': 0, 'without mask': 1}\n"
     ]
    }
   ],
   "source": [
    "data_path='dataset'\n",
    "categories=os.listdir(data_path)\n",
    "labels=[i for i in range(len(categories))]\n",
    "label_dict=dict(zip(categories,labels))\n",
    "\n",
    "print(f'Categories : {categories}')\n",
    "print(f'Labels     : {labels}')\n",
    "print(f'label_dict : {label_dict}')"
   ]
  },
  {
   "cell_type": "markdown",
   "metadata": {},
   "source": [
    "<h3>Transforming the data so that it is relavent for training</h3>\n",
    "<h3>\n",
    "    Dependent variable (data): It is of type 'numpy.ndarray' and of shape [n, w, h, ch]<br>\n",
    "    <ul>\n",
    "        <li> n : Number of training samples</li>\n",
    "        <li> w : Width of the image</li>\n",
    "        <li> h : Height of the image</li>\n",
    "        <li> ch : Channels ( 1 since it is converted to grayscale )</li>\n",
    "    </ul>\n",
    "        <br>Independent variable (target): It is of type 'numpy.ndarray' of shape [n, nc]<br>\n",
    "    <ul>\n",
    "        <li> n : Number of training samples</li>\n",
    "        <li> nc : Number of classes/categories </li>\n",
    "    </ul>\n",
    "</h3>"
   ]
  },
  {
   "cell_type": "code",
   "execution_count": 31,
   "metadata": {
    "id": "WdVNoZD6mhLi"
   },
   "outputs": [
    {
     "name": "stdout",
     "output_type": "stream",
     "text": [
      "target shape : (1376, 2)\n",
      "data shape   : (1376, 100, 100, 1)\n"
     ]
    }
   ],
   "source": [
    "img_size=100\n",
    "data=[]\n",
    "target=[]\n",
    "\n",
    "\n",
    "for category in categories:\n",
    "    folder_path=os.path.join(data_path,category)\n",
    "    img_names=os.listdir(folder_path)\n",
    "        \n",
    "    for img_name in img_names:\n",
    "        img_path=os.path.join(folder_path,img_name)\n",
    "        img=cv2.imread(img_path)\n",
    "\n",
    "        try:\n",
    "            gray=cv2.cvtColor(img,cv2.COLOR_BGR2GRAY)           \n",
    "            #Coverting the image into gray scale\n",
    "            resized=cv2.resize(gray,(img_size,img_size))\n",
    "            #resizing the gray scale into 100x100, since we need a fixed common size for all the images in the dataset\n",
    "            data.append(resized)\n",
    "            target.append(label_dict[category])\n",
    "            #appending the image and the label(categorized) into the list (dataset)\n",
    "\n",
    "        except Exception as e:\n",
    "            print('Exception:',e)\n",
    "            #if any exception rasied, the exception will be printed here. And pass to the next image\n",
    "\n",
    "data=np.array(data)/255.0\n",
    "data=np.reshape(data,(data.shape[0],img_size,img_size,1))\n",
    "target=np.array(target)\n",
    "target=np_utils.to_categorical(target)      \n",
    "\n",
    "print(f'target shape : {target.shape}')\n",
    "print(f'data shape   : {data.shape}')"
   ]
  },
  {
   "cell_type": "markdown",
   "metadata": {
    "id": "ilpLUexCwN6S"
   },
   "source": [
    "<h2><u>Phase - 2 : Building and Training the model</u></h2>\n",
    "<br><br>\n",
    "<h3><ul>\n",
    "    <li>In the below code cell we will build a simple sequential neural network. this neural network, when it completes training, will act as our classifier at the time of inference.</li><br>\n",
    "    <li>The architecture of the neural network can be seen below</li><br>\n",
    "<img src=\"conv visualization.bmp\" width=\"1200\" height=\"1000\"><br>\n",
    "    <li>tool used for making this visualization : <a href=\"https://alexlenail.me/NN-SVG/AlexNet.html\">link</a>\n",
    "    </li><br><br>\n",
    "     <li>Detailed summary of the architecture can be found in the ouput of the cell below</li><br>\n",
    "    </ul>\n",
    "    "
   ]
  },
  {
   "cell_type": "code",
   "execution_count": 35,
   "metadata": {
    "id": "m2Q31HuAx12X"
   },
   "outputs": [
    {
     "name": "stdout",
     "output_type": "stream",
     "text": [
      "Model: \"sequential_4\"\n",
      "_________________________________________________________________\n",
      "Layer (type)                 Output Shape              Param #   \n",
      "=================================================================\n",
      "conv2d_8 (Conv2D)            (None, 98, 98, 100)       1000      \n",
      "_________________________________________________________________\n",
      "activation_8 (Activation)    (None, 98, 98, 100)       0         \n",
      "_________________________________________________________________\n",
      "max_pooling2d_8 (MaxPooling2 (None, 49, 49, 100)       0         \n",
      "_________________________________________________________________\n",
      "conv2d_9 (Conv2D)            (None, 47, 47, 100)       90100     \n",
      "_________________________________________________________________\n",
      "activation_9 (Activation)    (None, 47, 47, 100)       0         \n",
      "_________________________________________________________________\n",
      "max_pooling2d_9 (MaxPooling2 (None, 23, 23, 100)       0         \n",
      "_________________________________________________________________\n",
      "flatten_4 (Flatten)          (None, 52900)             0         \n",
      "_________________________________________________________________\n",
      "dropout_4 (Dropout)          (None, 52900)             0         \n",
      "_________________________________________________________________\n",
      "dense_8 (Dense)              (None, 50)                2645050   \n",
      "_________________________________________________________________\n",
      "dense_9 (Dense)              (None, 2)                 102       \n",
      "=================================================================\n",
      "Total params: 2,736,252\n",
      "Trainable params: 2,736,252\n",
      "Non-trainable params: 0\n",
      "_________________________________________________________________\n"
     ]
    }
   ],
   "source": [
    "model=Sequential()\n",
    "\n",
    "model.add(Conv2D(100,(3,3),input_shape=data.shape[1:]))\n",
    "model.add(Activation('relu'))\n",
    "model.add(MaxPooling2D(pool_size=(2,2)))\n",
    "#The first CNN layer followed by Relu and MaxPooling layers\n",
    "\n",
    "model.add(Conv2D(100,(3,3)))\n",
    "model.add(Activation('relu'))\n",
    "model.add(MaxPooling2D(pool_size=(2,2)))\n",
    "#The second convolution layer followed by Relu and MaxPooling layers\n",
    "\n",
    "model.add(Flatten())\n",
    "model.add(Dropout(0.5))\n",
    "#Flatten layer to stack the output convolutions from second convolution layer\n",
    "model.add(Dense(50,activation='relu'))\n",
    "#Dense layer of 64 neurons\n",
    "model.add(Dense(2,activation='softmax'))\n",
    "#The Final layer with two outputs for two categories\n",
    "\n",
    "model.compile(loss='binary_crossentropy',optimizer='adam',metrics=['accuracy'])\n",
    "model.summary()"
   ]
  },
  {
   "cell_type": "markdown",
   "metadata": {},
   "source": [
    "<br><h3>We split the data in Training and test sets below</h3><br>"
   ]
  },
  {
   "cell_type": "code",
   "execution_count": 36,
   "metadata": {
    "id": "4ldzjLaayDXF"
   },
   "outputs": [],
   "source": [
    "from sklearn.model_selection import train_test_split\n",
    "\n",
    "train_data,test_data,train_target,test_target=train_test_split(data,target,test_size=0.1)"
   ]
  },
  {
   "cell_type": "markdown",
   "metadata": {},
   "source": [
    "<br><h3>The training process begins here &nbsp;&#127947;. We also save the best model <br><br>(The model is saved whenever validation loss is at it's momentary lowest)</h3><br>"
   ]
  },
  {
   "cell_type": "code",
   "execution_count": 37,
   "metadata": {
    "colab": {
     "base_uri": "https://localhost:8080/"
    },
    "id": "3xDNpB_eyHyO",
    "outputId": "96a91024-d64b-4823-c96f-3d12ab917f2b"
   },
   "outputs": [
    {
     "name": "stdout",
     "output_type": "stream",
     "text": [
      "Epoch 1/20\n",
      "31/31 [==============================] - 21s 664ms/step - loss: 0.7736 - accuracy: 0.5139 - val_loss: 0.6593 - val_accuracy: 0.7177\n",
      "\n",
      "Epoch 00001: val_loss improved from inf to 0.65925, saving model to model-001.model\n",
      "INFO:tensorflow:Assets written to: model-001.model\\assets\n",
      "Epoch 2/20\n",
      "31/31 [==============================] - 28s 897ms/step - loss: 0.6411 - accuracy: 0.6260 - val_loss: 0.4926 - val_accuracy: 0.8024\n",
      "\n",
      "Epoch 00002: val_loss improved from 0.65925 to 0.49258, saving model to model-002.model\n",
      "INFO:tensorflow:Assets written to: model-002.model\\assets\n",
      "Epoch 3/20\n",
      "31/31 [==============================] - 30s 979ms/step - loss: 0.4673 - accuracy: 0.7914 - val_loss: 0.3723 - val_accuracy: 0.8669\n",
      "\n",
      "Epoch 00003: val_loss improved from 0.49258 to 0.37231, saving model to model-003.model\n",
      "INFO:tensorflow:Assets written to: model-003.model\\assets\n",
      "Epoch 4/20\n",
      "31/31 [==============================] - 24s 772ms/step - loss: 0.3017 - accuracy: 0.8905 - val_loss: 0.2961 - val_accuracy: 0.9194\n",
      "\n",
      "Epoch 00004: val_loss improved from 0.37231 to 0.29607, saving model to model-004.model\n",
      "INFO:tensorflow:Assets written to: model-004.model\\assets\n",
      "Epoch 5/20\n",
      "31/31 [==============================] - 23s 730ms/step - loss: 0.2307 - accuracy: 0.9162 - val_loss: 0.2171 - val_accuracy: 0.9194\n",
      "\n",
      "Epoch 00005: val_loss improved from 0.29607 to 0.21705, saving model to model-005.model\n",
      "INFO:tensorflow:Assets written to: model-005.model\\assets\n",
      "Epoch 6/20\n",
      "31/31 [==============================] - 18s 594ms/step - loss: 0.1570 - accuracy: 0.9453 - val_loss: 0.1899 - val_accuracy: 0.9476\n",
      "\n",
      "Epoch 00006: val_loss improved from 0.21705 to 0.18990, saving model to model-006.model\n",
      "INFO:tensorflow:Assets written to: model-006.model\\assets\n",
      "Epoch 7/20\n",
      "31/31 [==============================] - 20s 651ms/step - loss: 0.1170 - accuracy: 0.9582 - val_loss: 0.2366 - val_accuracy: 0.9153\n",
      "\n",
      "Epoch 00007: val_loss did not improve from 0.18990\n",
      "Epoch 8/20\n",
      "31/31 [==============================] - 20s 651ms/step - loss: 0.1168 - accuracy: 0.9592 - val_loss: 0.1569 - val_accuracy: 0.9516\n",
      "\n",
      "Epoch 00008: val_loss improved from 0.18990 to 0.15692, saving model to model-008.model\n",
      "INFO:tensorflow:Assets written to: model-008.model\\assets\n",
      "Epoch 9/20\n",
      "31/31 [==============================] - 21s 671ms/step - loss: 0.0880 - accuracy: 0.9695 - val_loss: 0.1622 - val_accuracy: 0.9516\n",
      "\n",
      "Epoch 00009: val_loss did not improve from 0.15692\n",
      "Epoch 10/20\n",
      "31/31 [==============================] - 19s 617ms/step - loss: 0.0807 - accuracy: 0.9732 - val_loss: 0.1648 - val_accuracy: 0.9516\n",
      "\n",
      "Epoch 00010: val_loss did not improve from 0.15692\n",
      "Epoch 11/20\n",
      "31/31 [==============================] - 19s 619ms/step - loss: 0.0904 - accuracy: 0.9683 - val_loss: 0.1838 - val_accuracy: 0.9435\n",
      "\n",
      "Epoch 00011: val_loss did not improve from 0.15692\n",
      "Epoch 12/20\n",
      "31/31 [==============================] - 19s 618ms/step - loss: 0.0637 - accuracy: 0.9828 - val_loss: 0.2298 - val_accuracy: 0.9274\n",
      "\n",
      "Epoch 00012: val_loss did not improve from 0.15692\n",
      "Epoch 13/20\n",
      "31/31 [==============================] - 20s 643ms/step - loss: 0.0481 - accuracy: 0.9859 - val_loss: 0.1560 - val_accuracy: 0.9516\n",
      "\n",
      "Epoch 00013: val_loss improved from 0.15692 to 0.15603, saving model to model-013.model\n",
      "INFO:tensorflow:Assets written to: model-013.model\\assets\n",
      "Epoch 14/20\n",
      "31/31 [==============================] - 21s 687ms/step - loss: 0.0366 - accuracy: 0.9832 - val_loss: 0.1813 - val_accuracy: 0.9597\n",
      "\n",
      "Epoch 00014: val_loss did not improve from 0.15603\n",
      "Epoch 15/20\n",
      "31/31 [==============================] - 20s 642ms/step - loss: 0.0370 - accuracy: 0.9859 - val_loss: 0.1746 - val_accuracy: 0.9476\n",
      "\n",
      "Epoch 00015: val_loss did not improve from 0.15603\n",
      "Epoch 16/20\n",
      "31/31 [==============================] - 20s 652ms/step - loss: 0.0395 - accuracy: 0.9840 - val_loss: 0.1652 - val_accuracy: 0.9597\n",
      "\n",
      "Epoch 00016: val_loss did not improve from 0.15603\n",
      "Epoch 17/20\n",
      "31/31 [==============================] - 20s 634ms/step - loss: 0.0144 - accuracy: 0.9946 - val_loss: 0.1854 - val_accuracy: 0.9556\n",
      "\n",
      "Epoch 00017: val_loss did not improve from 0.15603\n",
      "Epoch 18/20\n",
      "31/31 [==============================] - 20s 656ms/step - loss: 0.0157 - accuracy: 0.9944 - val_loss: 0.1881 - val_accuracy: 0.9637\n",
      "\n",
      "Epoch 00018: val_loss did not improve from 0.15603\n",
      "Epoch 19/20\n",
      "31/31 [==============================] - 19s 625ms/step - loss: 0.0267 - accuracy: 0.9900 - val_loss: 0.1829 - val_accuracy: 0.9637\n",
      "\n",
      "Epoch 00019: val_loss did not improve from 0.15603\n",
      "Epoch 20/20\n",
      "31/31 [==============================] - 19s 625ms/step - loss: 0.0160 - accuracy: 0.9972 - val_loss: 0.1887 - val_accuracy: 0.9597\n",
      "\n",
      "Epoch 00020: val_loss did not improve from 0.15603\n"
     ]
    }
   ],
   "source": [
    "checkpoint = ModelCheckpoint('model-{epoch:03d}.model',monitor='val_loss',verbose=1,save_best_only=True,mode='min')\n",
    "history=model.fit(train_data,train_target,epochs=20,validation_split=0.2,callbacks = checkpoint,verbose=1)"
   ]
  },
  {
   "cell_type": "markdown",
   "metadata": {},
   "source": [
    "<br><h3> Upon analysis of the training process we know that the results did not improve beyond that of epoch 14. \n",
    "<hr>"
   ]
  },
  {
   "cell_type": "markdown",
   "metadata": {},
   "source": [
    "<h3> The training process is visualized below. Insights from these graphs will tell us if training was done properly or not</h3><br>"
   ]
  },
  {
   "cell_type": "code",
   "execution_count": 38,
   "metadata": {
    "colab": {
     "base_uri": "https://localhost:8080/",
     "height": 279
    },
    "id": "nF4gXuTIwZnk",
    "outputId": "e86f6a9e-5d18-48c0-a6a3-a1610e7c1d93"
   },
   "outputs": [
    {
     "data": {
      "image/png": "[encoded data removed]",
      "text/plain": [
       "<Figure size 720x432 with 1 Axes>"
      ]
     },
     "metadata": {
      "needs_background": "light"
     },
     "output_type": "display_data"
    }
   ],
   "source": [
    "plt.figure(figsize = (10,6))\n",
    "plt.plot(history.history['loss'],'r',label='training loss')\n",
    "plt.plot(history.history['val_loss'],label='validation loss')\n",
    "plt.xlabel('# epochs')\n",
    "plt.ylabel('loss')\n",
    "plt.legend()\n",
    "plt.show()"
   ]
  },
  {
   "cell_type": "code",
   "execution_count": 39,
   "metadata": {
    "colab": {
     "base_uri": "https://localhost:8080/",
     "height": 279
    },
    "id": "skfxlQBfwZnl",
    "outputId": "9c7983d5-6df2-4624-a3eb-bc38f2defb45"
   },
   "outputs": [
    {
     "data": {
      "image/png": "[encoded data removed]",
      "text/plain": [
       "<Figure size 720x432 with 1 Axes>"
      ]
     },
     "metadata": {
      "needs_background": "light"
     },
     "output_type": "display_data"
    }
   ],
   "source": [
    "plt.figure(figsize = (10,6))\n",
    "plt.plot(history.history['accuracy'],'r',label='training accuracy')\n",
    "plt.plot(history.history['val_accuracy'],label='validation accuracy')\n",
    "plt.xlabel('# epochs')\n",
    "plt.ylabel('loss')\n",
    "plt.legend()\n",
    "plt.show()"
   ]
  },
  {
   "cell_type": "markdown",
   "metadata": {},
   "source": [
    "<br><h3>With this the training proces is comlete. &nbsp; &#128077;</h3>\n",
    "<hr>"
   ]
  },
  {
   "cell_type": "markdown",
   "metadata": {
    "id": "ypUheMwbzNqp"
   },
   "source": [
    "<h2>Phase - 3 : Inference </h2>\n",
    "<br>\n",
    "<h3>In this phase we will be witnessing the complete working of our Face Mask detector in Real-Time!! &#127878;\n",
    "<hr>\n",
    "<h3>Before that we will implement another crucial part of this project that is the Face detector.\n",
    "    <ul>\n",
    "        <br><br>\n",
    "        <li>The Face detector we will be using is opencv's 'haarcascade_frontalface_default' face detector.</li>\n",
    "        <br>\n",
    "        <li>This detector uses haar like features to detect the face.</li>\n",
    "    </ul><br><br>\n",
    "    <h2><i>What are haar like features!?&nbsp; &#129300;</i></h2>\n",
    "    <h3>Simply put, Haar like features are features that are detected by edge detectors/line detectors and such. These give very shallow insights unlike complex and deep neural networks but are crucial and effective in certain applications due to their simplicity. Some examples of haar like features can be seen below.</h3>\n",
    "    <br><br>\n",
    "    <img src=\"haar like features.png\" width=\"600\" height=\"600\">\n",
    "    <br><br><hr>\n",
    "    <h3>The best instance of our model and the face detector from opencv are loaded below</h3><br>"
   ]
  },
  {
   "cell_type": "code",
   "execution_count": 40,
   "metadata": {
    "colab": {
     "base_uri": "https://localhost:8080/",
     "height": 374
    },
    "id": "I0pQ1nLoyq3q",
    "outputId": "d07cfda0-a572-46c7-de95-0e9d3a53e832"
   },
   "outputs": [],
   "source": [
    "model = load_model('model-013.model')\n",
    "face_clsfr=cv2.CascadeClassifier('haarcascade_frontalface_default.xml')"
   ]
  },
  {
   "cell_type": "markdown",
   "metadata": {},
   "source": [
    "<br><h2>Ready. set.. DETECT! &nbsp;&#129313; </h2><br>"
   ]
  },
  {
   "cell_type": "code",
   "execution_count": 42,
   "metadata": {
    "id": "xlBctQGcyq3r"
   },
   "outputs": [],
   "source": [
    "labels_dict={0:'with_mask',1:'without_mask'}\n",
    "color_dict={0:(0,255,0),1:(0,0,255)}\n",
    "\n",
    "source=cv2.VideoCapture(0)\n",
    "while(True):\n",
    "\n",
    "    ret,img=source.read()\n",
    "    gray=cv2.cvtColor(img,cv2.COLOR_BGR2GRAY)\n",
    "    faces=face_clsfr.detectMultiScale(gray,1.3,5)  \n",
    "\n",
    "    for x,y,w,h in faces:\n",
    "    \n",
    "        face_img=gray[y:y+w,x:x+w]\n",
    "        resized=cv2.resize(face_img,(100,100))\n",
    "        normalized=resized/255.0\n",
    "        reshaped=np.reshape(normalized,(1,100,100,1))\n",
    "        result=model.predict(reshaped)\n",
    "\n",
    "        label=np.argmax(result,axis=1)[0]\n",
    "      \n",
    "        cv2.rectangle(img,(x,y),(x+w,y+h),color_dict[label],2)\n",
    "        cv2.rectangle(img,(x,y-40),(x+w,y),color_dict[label],-1)\n",
    "        cv2.putText(img, labels_dict[label], (x, y-10),cv2.FONT_HERSHEY_SIMPLEX,0.8,(255,255,255),2)\n",
    "        \n",
    "        \n",
    "    cv2.imshow('LIVE',img)\n",
    "    key=cv2.waitKey(1)\n",
    "    \n",
    "    if(key==27):\n",
    "        break\n",
    "        \n",
    "cv2.destroyAllWindows()\n",
    "source.release()"
   ]
  },
  {
   "cell_type": "markdown",
   "metadata": {},
   "source": [
    "<br><h2>Thank you for your time and patience!</h2><br>\n",
    "<h2>If liked this notebook and if you're interseted, feel free to checkout github and kaggle handles for more such work:\n",
    "    <ul><br>\n",
    "        <li><a href=\"https://github.com/kumar-selvakumaran\">Github</a></li><br>\n",
    "        <li><a href=\"https://www.kaggle.com/kumarselvakumaran\">Kaggle</a></li>\n",
    "    </ul>\n",
    "    <br>\n",
    "    <h2>Cheers! \t\n",
    "&#127867;</h2>"
   ]
  }
 ],
 "metadata": {
  "colab": {
   "name": "1.0 data preprocessing.ipynb",
   "provenance": []
  },
  "kernelspec": {
   "display_name": "Python 3",
   "language": "python",
   "name": "python3"
  },
  "language_info": {
   "codemirror_mode": {
    "name": "ipython",
    "version": 3
   },
   "file_extension": ".py",
   "mimetype": "text/x-python",
   "name": "python",
   "nbconvert_exporter": "python",
   "pygments_lexer": "ipython3",
   "version": "3.8.5"
  }
 },
 "nbformat": 4,
 "nbformat_minor": 1
}
